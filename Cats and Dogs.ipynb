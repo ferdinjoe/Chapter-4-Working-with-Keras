{
 "metadata": {
  "language_info": {
   "codemirror_mode": {
    "name": "ipython",
    "version": 3
   },
   "file_extension": ".py",
   "mimetype": "text/x-python",
   "name": "python",
   "nbconvert_exporter": "python",
   "pygments_lexer": "ipython3",
   "version": 3
  },
  "orig_nbformat": 2,
  "kernelspec": {
   "name": "python_defaultSpec_1596351342598",
   "display_name": "Python 3.7.7 64-bit ('base': conda)"
  }
 },
 "nbformat": 4,
 "nbformat_minor": 2,
 "cells": [
  {
   "cell_type": "markdown",
   "metadata": {},
   "source": [
    "### Dogs v Cats dataset: https://www.kaggle.com/c/dogs-vs-cats"
   ]
  },
  {
   "cell_type": "code",
   "execution_count": null,
   "metadata": {
    "tags": []
   },
   "outputs": [],
   "source": [
    "import keras\n",
    "from keras import Model\n",
    "from keras.models import Sequential\n",
    "from keras.layers import Dense, Flatten, Dropout, BatchNormalization\n",
    "from keras.layers.convolutional import Conv2D, MaxPooling2D\n",
    "import os"
   ]
  },
  {
   "cell_type": "code",
   "execution_count": null,
   "metadata": {},
   "outputs": [],
   "source": [
    "root_path = 'dogs-cats'\n",
    "\n",
    "train_folder = os.path.join(root_path, 'train')\n",
    "validation_folder = os.path.join(root_path, 'validation')\n",
    "\n",
    "train_dogs_folder = os.path.join(train_folder, 'dogs')\n",
    "train_cats_folder = os.path.join(train_folder, 'cats')\n",
    "\n",
    "validation_dogs_folder = os.path.join(validation_folder, 'dogs')\n",
    "validation_cats_folder = os.path.join(validation_folder, 'cats')"
   ]
  },
  {
   "cell_type": "code",
   "execution_count": null,
   "metadata": {
    "tags": []
   },
   "outputs": [],
   "source": [
    "train_dog_filenames = os.listdir(train_dogs_folder)\n",
    "train_cat_filenames = os.listdir(train_cats_folder)\n",
    "validation_dog_filenames = os.listdir(validation_dogs_folder)\n",
    "validation_cat_filenames = os.listdir(validation_cats_folder)\n",
    "\n",
    "print('Train filenames:')\n",
    "print(train_dog_filenames[:5])\n",
    "print(train_cat_filenames[:5])\n",
    "\n",
    "print('Validation filenames:')\n",
    "print(validation_dog_filenames[:5])\n",
    "print(validation_cat_filenames[:5])"
   ]
  },
  {
   "cell_type": "code",
   "execution_count": null,
   "metadata": {
    "tags": []
   },
   "outputs": [],
   "source": [
    "dogs_num = len(train_dog_filenames)\n",
    "cats_num = len(train_cat_filenames)\n",
    "\n",
    "print('training dog:', dogs_num)\n",
    "print('training cat:', cats_num)\n",
    "\n",
    "val_dogs_num = len(validation_dog_filenames)\n",
    "val_cats_num = len(validation_cat_filenames)\n",
    "\n",
    "print('validation dog:', val_dogs_num)\n",
    "print('validation cat:', val_cats_num)"
   ]
  },
  {
   "cell_type": "code",
   "execution_count": null,
   "metadata": {},
   "outputs": [],
   "source": [
    "import matplotlib.pyplot as plt\n",
    "import matplotlib.image as mpimg\n",
    "\n",
    "dog_path = train_dogs_folder+'\\\\'\n",
    "cat_path = train_cats_folder+'\\\\'\n",
    "\n",
    "plt.subplot(231)\n",
    "plt.imshow(mpimg.imread(dog_path+train_dog_filenames[0]))\n",
    "plt.axis('Off')\n",
    "plt.subplot(232)\n",
    "plt.imshow(mpimg.imread(dog_path+train_dog_filenames[1]))\n",
    "plt.axis('Off')\n",
    "plt.subplot(233)\n",
    "plt.imshow(mpimg.imread(dog_path+train_dog_filenames[2]))\n",
    "plt.axis('Off')\n",
    "plt.subplot(234)\n",
    "plt.imshow(mpimg.imread(cat_path+train_cat_filenames[0]))\n",
    "plt.axis('Off')\n",
    "plt.subplot(235)\n",
    "plt.imshow(mpimg.imread(cat_path+train_cat_filenames[1]))\n",
    "plt.axis('Off')\n",
    "plt.subplot(236)\n",
    "plt.imshow(mpimg.imread(cat_path+train_cat_filenames[2]))\n",
    "plt.axis('Off')\n",
    "plt.savefig('Dog Cat.png', dpi=100)\n",
    "plt.show()"
   ]
  },
  {
   "cell_type": "code",
   "execution_count": null,
   "metadata": {},
   "outputs": [],
   "source": [
    "from keras.preprocessing.image import ImageDataGenerator\n",
    "train_datagen = ImageDataGenerator(rescale = 1.0/255.,\n",
    "                                        shear_range=0.2,\n",
    "                                        zoom_range=0.2,\n",
    "                                        horizontal_flip=True)\n",
    "validation_datagen  = ImageDataGenerator(rescale = 1.0/255.)"
   ]
  },
  {
   "cell_type": "code",
   "execution_count": null,
   "metadata": {
    "tags": []
   },
   "outputs": [],
   "source": [
    "train_generator = train_datagen.flow_from_directory(train_folder,\n",
    "                                                    batch_size=100,\n",
    "                                                    class_mode='binary',\n",
    "                                                    target_size=(150, 150))\n",
    "\n",
    "validation_generator = train_datagen.flow_from_directory(validation_folder,\n",
    "                                                    batch_size=100,\n",
    "                                                    class_mode='binary',\n",
    "                                                    target_size=(150, 150))"
   ]
  },
  {
   "cell_type": "code",
   "execution_count": null,
   "metadata": {
    "tags": []
   },
   "outputs": [],
   "source": [
    "model = Sequential()\n",
    "model.add(Conv2D(32, (3, 3), activation='relu', input_shape=(150, 150, 3)))\n",
    "model.add(BatchNormalization())\n",
    "model.add(MaxPooling2D(pool_size=(2, 2)))\n",
    "model.add(Dropout(0.25))\n",
    "model.add(Conv2D(64, (3, 3), activation='relu'))\n",
    "model.add(BatchNormalization())\n",
    "model.add(MaxPooling2D(pool_size=(2, 2)))\n",
    "model.add(Dropout(0.25))\n",
    "model.add(Conv2D(128, (3, 3), activation='relu'))\n",
    "model.add(BatchNormalization())\n",
    "model.add(MaxPooling2D(pool_size=(2, 2)))\n",
    "model.add(Dropout(0.25))\n",
    "model.add(Flatten())\n",
    "model.add(Dense(512, activation='relu'))\n",
    "model.add(BatchNormalization())\n",
    "model.add(Dropout(0.5))\n",
    "model.add(Dense(1, activation='sigmoid'))\n",
    "model.compile(loss='binary_crossentropy', optimizer='rmsprop', metrics=['accuracy'])\n",
    "history = model.fit(train_generator, validation_data=validation_generator, epochs=1000, verbose=2)"
   ]
  },
  {
   "cell_type": "code",
   "execution_count": null,
   "metadata": {},
   "outputs": [],
   "source": [
    "train_generator.class_indices"
   ]
  },
  {
   "cell_type": "code",
   "execution_count": null,
   "metadata": {
    "tags": []
   },
   "outputs": [],
   "source": [
    "from keras.preprocessing import image\n",
    "import numpy as np\n",
    "\n",
    "# load a new image\n",
    "filename = 'cat.jpg'\n",
    "img = image.load_img(filename, target_size=(150, 150))\n",
    "\n",
    "# preprocess a new image\n",
    "img = image.img_to_array(img)\n",
    "img = np.expand_dims(img, axis=0)\n",
    "\n",
    "# predict a new image\n",
    "predicted_result = model.predict(img)\n",
    "print(predicted_result[0][0])\n",
    "if predicted_result[0][0] == 0:\n",
    "    result = 'This image is a Cat.'\n",
    "else:\n",
    "    result = 'This image is a Dog.'\n",
    "print(result)"
   ]
  }
 ]
}